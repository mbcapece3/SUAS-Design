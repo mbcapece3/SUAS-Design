{
 "cells": [
  {
   "cell_type": "markdown",
   "metadata": {},
   "source": [
    "# Electric Fixed Wing sUAS Design\n",
    "\n",
    "### Introduction\n",
    "The following will overview the design process for an electric fixed wing small unmanned aerial system (sUAS) as well as providing code for designing one. Due to the nature of the vehicle being designed, the operational conditions are assumed to be standard sea level. All units are SI unless otherwise noted."
   ]
  },
  {
   "cell_type": "code",
   "execution_count": 1,
   "metadata": {},
   "outputs": [],
   "source": [
    "# Setup\n",
    "\n",
    "# Imports\n",
    "import numpy as np\n",
    "import matplotlib.pyplot as plt\n",
    "\n",
    "# Constants\n",
    "pi = 3.1415926\n",
    "\n",
    "# Physical Constants\n",
    "gravity = 9.80665               # m/s^2\n",
    "\n",
    "# Standard Sea Level Atmosphere\n",
    "density = 1.225                 # kg/m^3\n",
    "temp_C = 15                     # C\n",
    "temp_K = 288.2                  # K\n",
    "pressure = 101325               # Pa\n",
    "speed_of_sound = 340.3          # m/s\n",
    "dynamic_viscosity = 1.789e-5    # kg/m/s\n",
    "kinematic_viscosity = 1.460e-5  # m^2/s\n",
    "gas_constant = 287.1            # J/kg/K\n",
    "temp_lapse_rate = 0.0065        # K/m\n",
    "molar_mass = 0.0289652          # kg/mol\n",
    "ratio_of_specific_heats = 1.4   # unitless"
   ]
  },
  {
   "cell_type": "markdown",
   "metadata": {},
   "source": [
    "### Requirements\n",
    "\n",
    "Any aircraft design process begins by defining requirements. These will likely be adjusted in an iterative process as certain combinations of requirements are mutually exclusive given a certain budget or current available technology."
   ]
  },
  {
   "cell_type": "code",
   "execution_count": 2,
   "metadata": {},
   "outputs": [],
   "source": [
    "# Requirements\n",
    "\n",
    "W_payload = 0.5 * gravity  # N, required payload weight\n",
    "range = 20000  # m, required range\n"
   ]
  },
  {
   "cell_type": "markdown",
   "metadata": {},
   "source": [
    "### Initial Sizing Estimate\n",
    "\n",
    "The first step of aircraft design is an estimate of gross takeoff weight given by the following formula\n",
    "\n",
    "\\begin{gathered}\n",
    "W_0 = \\frac{W_p}{1-\\frac{W_b}{W_0}-\\frac{W_e}{W_0}} \n",
    "\\end{gathered}\n",
    "\n",
    "Where\n",
    "\n",
    "\\begin{gathered}\n",
    "W_0 = \\text{Gross Takeoff Weight} \\\\\n",
    "W_p = \\text{Payload Weight (All Non-Flight-Critical Mass)} \\\\\n",
    "\\frac{W_b}{W_0} = \\text{Battery Weight Fraction} \\\\\n",
    "\\frac{W_e}{W_0} = \\text{Empty Weight Fraction} \\\\\n",
    "\\end{gathered}\n",
    "\n",
    "Payload weight is a requirement. Battery Weight Fraction is estimated based on the mission requirements. Empty weight fraction is estimated based on the Gross Takeoff Weight. However, since Gross Takeoff Weight is what we are solving for, Empty Weight Fraction and Gross Takeoff Weight must be estimated iteratively.\n",
    "\n",
    "Source: Raymer 6th Ed. Chapter 3"
   ]
  },
  {
   "cell_type": "markdown",
   "metadata": {},
   "source": [
    "##### Battery Weight Fraction Estimate\n",
    "\n",
    "Note that unlike standard fuel-based aircraft, electric aircraft use a constant-weight battery. The following method of estimating Battery Weight Fraction is used.\n",
    "\n",
    "For a low altitude electric sUAS, I will assume climb and landing make up a relatively small portion of flight time and can therefore be treated identically to cruise. Therefore the Battery Weight Fraction can be estimated using only the Range, Estimated L/D and Estimated Powertrain Efficiency\n",
    "\n",
    "\\begin{gathered}\n",
    "\\frac{W_b}{W_0} = \\frac{g*R}{3600*e*\\frac{L}{D}*n}\n",
    "\\end{gathered}\n",
    "\n",
    "where\n",
    "\n",
    "\\begin{gathered}\n",
    "g = \\text{gravity (m/s/s)} \\\\\n",
    "R = \\text{Range (m)} \\\\\n",
    "e = \\text {Battery Specific Energy (W*hr/kg)} \\\\\n",
    "\\frac{L}{D} = \\text{Lift to Drag Ratio} \\\\\n",
    "n = \\text{Efficiency } (n_{propeller} * n_{motor} * n_{esc} * n_{battery} * n_{wire})\n",
    "\\end{gathered}\n",
    "\n",
    "\n",
    "Source: Raymer 6th Ed. Chapter 20 Pg 759\n",
    "\n",
    "Propeller efficiency is a function of advance ratio, but for intitial sizing purposes we will assume it falls between 0.5 and 0.7.\n",
    "\n",
    "See: https://m-selig.ae.illinois.edu/props/propDB.html\n",
    "\n",
    "Wire efficiency is extremely high at such short lengths and is assumed to be 0.99. All other efficiencies are fairly high and have been roughly estimated as 0.9.\n",
    "\n",
    "Specific Energy is estimated to be approximately 150 W*Hr/kg for RC Hobby Grade LiPo Batteries.\n",
    "\n"
   ]
  },
  {
   "cell_type": "code",
   "execution_count": 5,
   "metadata": {},
   "outputs": [
    {
     "name": "stdout",
     "output_type": "stream",
     "text": [
      "Total Efficiency: 0.433\n"
     ]
    }
   ],
   "source": [
    "n_propeller = .6  # propeller efficiency\n",
    "n_wire = .99  # wire effiency\n",
    "n_motor = .9  # motor efficiency\n",
    "n_esc = .9  # esc efficiency\n",
    "n_batt = .9  # battery efficiency\n",
    "\n",
    "n_total = n_propeller * n_motor * n_esc * n_batt * n_wire\n",
    "print(f\"Total Efficiency: {n_total:.3f}\")\n",
    "\n",
    "e = 150  # W*Hr/kg, RC Grade Lipo Specific Energy\n"
   ]
  },
  {
   "cell_type": "markdown",
   "metadata": {},
   "source": [
    "##### Empty Weight Fraction Estimate"
   ]
  },
  {
   "cell_type": "code",
   "execution_count": null,
   "metadata": {},
   "outputs": [],
   "source": []
  }
 ],
 "metadata": {
  "language_info": {
   "name": "python"
  }
 },
 "nbformat": 4,
 "nbformat_minor": 2
}
