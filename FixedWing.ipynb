{
 "cells": [
  {
   "cell_type": "markdown",
   "metadata": {},
   "source": [
    "# Electric Fixed Wing sUAS Design\n",
    "\n",
    "### Introduction\n",
    "The following will overview the design process for an electric fixed wing small unmanned aerial system (sUAS) as well as providing code for designing one. Due to the nature of the vehicle being designed, the operational conditions are assumed to be standard sea level. All units are SI unless otherwise noted."
   ]
  },
  {
   "cell_type": "code",
   "execution_count": 11,
   "metadata": {},
   "outputs": [],
   "source": [
    "# Setup\n",
    "\n",
    "# Imports\n",
    "import numpy as np\n",
    "import matplotlib.pyplot as plt\n",
    "\n",
    "# Constants\n",
    "pi = 3.1415926\n",
    "\n",
    "# Physical Constants\n",
    "gravity = 9.80665               # m/s^2\n",
    "\n",
    "# Standard Sea Level Atmosphere\n",
    "density = 1.225                 # kg/m^3\n",
    "temp_C = 15                     # C\n",
    "temp_K = 288.2                  # K\n",
    "pressure = 101325               # Pa\n",
    "speed_of_sound = 340.3          # m/s\n",
    "dynamic_viscosity = 1.789e-5    # kg/m/s\n",
    "kinematic_viscosity = 1.460e-5  # m^2/s\n",
    "gas_constant = 287.1            # J/kg/K\n",
    "temp_lapse_rate = 0.0065        # K/m\n",
    "molar_mass = 0.0289652          # kg/mol\n",
    "ratio_of_specific_heats = 1.4   # unitless"
   ]
  },
  {
   "cell_type": "markdown",
   "metadata": {},
   "source": [
    "### Requirements\n",
    "\n",
    "Any aircraft design process begins by defining requirements. These will likely be adjusted in an iterative process as certain combinations of requirements are mutually exclusive given a certain budget or current available technology."
   ]
  },
  {
   "cell_type": "code",
   "execution_count": 12,
   "metadata": {},
   "outputs": [],
   "source": [
    "# Requirements\n",
    "\n",
    "W_payload = 0.5 * gravity  # N, required payload weight\n",
    "range = 20000  # m, required range\n"
   ]
  },
  {
   "cell_type": "markdown",
   "metadata": {},
   "source": [
    "### Initial Sizing Estimate\n",
    "\n",
    "The first step of aircraft design is an estimate of gross takeoff weight given by the following formula\n",
    "\n",
    "\\begin{gathered}\n",
    "W_0 = \\frac{W_p}{1-\\frac{W_b}{W_0}-\\frac{W_e}{W_0}} \n",
    "\\end{gathered}\n",
    "\n",
    "Where\n",
    "\n",
    "\\begin{gathered}\n",
    "W_0 = \\text{Gross Takeoff Weight} \\\\\n",
    "W_p = \\text{Payload Weight (All Non-Flight-Critical Mass)} \\\\\n",
    "\\frac{W_b}{W_0} = \\text{Battery Weight Fraction} \\\\\n",
    "\\frac{W_e}{W_0} = \\text{Empty Weight Fraction} \\\\\n",
    "\\end{gathered}\n",
    "\n",
    "Payload weight is a requirement. Battery Weight Fraction is estimated based on the mission requirements. Empty weight fraction is estimated based on the Gross Takeoff Weight. However, since Gross Takeoff Weight is what we are solving for, Empty Weight Fraction and Gross Takeoff Weight must be estimated iteratively.\n",
    "\n",
    "Source: Raymer 6th Ed. Chapter 3"
   ]
  },
  {
   "cell_type": "markdown",
   "metadata": {},
   "source": [
    "##### Battery Weight Fraction Estimate\n",
    "\n",
    "Note that unlike standard fuel-based aircraft, electric aircraft use a constant-weight battery. The following method of estimating Battery Weight Fraction is used.\n",
    "\n",
    "For a low altitude electric sUAS, I will assume climb and landing make up a relatively small portion of flight time and can therefore be treated identically to cruise. Therefore the Battery Weight Fraction can be estimated using only the Range, Estimated L/D and Estimated Powertrain Efficiency\n",
    "\n",
    "\\begin{gathered}\n",
    "\\frac{W_b}{W_0} = \\frac{g*R}{3600*e*\\frac{L}{D}*n}\n",
    "\\end{gathered}\n",
    "\n",
    "where\n",
    "\n",
    "\\begin{gathered}\n",
    "g = \\text{gravity (m/s/s)} \\\\\n",
    "R = \\text{Range (m)} \\\\\n",
    "e = \\text {Battery Specific Energy (W*hr/kg)} \\\\\n",
    "\\frac{L}{D} = \\text{Lift to Drag Ratio} \\\\\n",
    "\\eta = \\text{Efficiency } (\\eta_{propeller} * \\eta_{motor} * \\eta_{esc} * \\eta_{battery} * \\eta_{wire})\n",
    "\\end{gathered}\n",
    "\n",
    "\n",
    "Source: Raymer 6th Ed. Chapter 20 Pg 759\n",
    "\n",
    "Range is a Requirement and therefore does not require estimation.\n",
    "\n",
    "Propeller efficiency is a function of advance ratio, but for initial sizing purposes we will assume it falls between 0.5 and 0.7.\n",
    "\n",
    "See: https://m-selig.ae.illinois.edu/props/propDB.html\n",
    "\n",
    "Wire efficiency is extremely high at such short lengths and is assumed to be 0.99. All other efficiencies are fairly high and have been roughly estimated as 0.9.\n",
    "\n",
    "Specific Energy is estimated to be approximately 150 W*Hr/kg for RC Hobby-Grade LiPo Batteries. This can be higher or lower depending on battery quality.\n",
    "\n",
    "See: https://www.rcgroups.com/forums/showthread.php?1767093-Battery-Load-Test-Comparisons\n",
    "\n",
    "L/D Can be Estimated based on historical data from similar airplanes. An electric sUAS will likely have and L/D in the 5-15 range. For a physical intuition, L/D is equivalent to the unpowered glide slope of an airplane.\n",
    "\n",
    "A method of L/D estimation is to use the formula\n",
    "\n",
    "\\begin{gathered}\n",
    "\\frac{L}{D}_{max} = K_{LD} * \\sqrt{A_{wet}} \\\\\n",
    "\n",
    "\\text{where } K_{LD} = 9 \\text{ for non-retractable gear, propeller aircraft} \\\\\n",
    "A_{wet} = \\frac{b^2}{S_{wet}} = \\frac{A}{S_{wet}/S_{ref}} = \\text{Wetted Aspect Ratio} \\\\\n",
    "A = \\frac{b^2}{S_{ref}} = \\text{Aspect Ratio} \\\\\n",
    "b = \\text{Wing Span} \\\\\n",
    "S_{wet} = \\text{Wetted Area (Total Surface Area of the Airplane)} \\\\\n",
    "S_{ref} = \\text{Wing Area (Planform Area)} \\\\\n",
    "\\end{gathered}\n",
    "\n",
    "Source: Raymer 6th Ed. Chapter 3\n",
    "\n",
    "\n",
    "Apspect Ratio is selected as part of the initial rough configuration. A traditional general aviation propeller-recip aircraft will have an aspect ratio between 5-8. For the purposed of an electric sUAS, I will assume\n",
    "\n",
    "\n",
    "Wetted Area Ratio, S<sub>wet</sub>/S<sub>ref</sub>, can be estimated by \"eyeballing\" the configuration compared to historical data \n",
    "\n",
    "\n",
    "\n",
    "See: https://www.atmos.albany.edu/daes/atmclasses/env327/References/UAS-jtech-d-13-00236%252E1.pdf"
   ]
  },
  {
   "cell_type": "code",
   "execution_count": 20,
   "metadata": {},
   "outputs": [
    {
     "name": "stdout",
     "output_type": "stream",
     "text": [
      "Required Range: 20000 m\n",
      "Total Efficiency: 0.433\n",
      "Battery Specific Energy: 150 W*hr/kg\n",
      "Max L/D: 11.0\n",
      "Battery Mass Fraction: 0.076\n"
     ]
    }
   ],
   "source": [
    "# Inputs\n",
    "efficiency_propeller = .6  # propeller efficiency\n",
    "efficiency_wire = .99  # wire effiency\n",
    "efficiency_motor = .9  # motor efficiency\n",
    "efficiency_esc = .9  # esc efficiency\n",
    "efficiency_batt = .9  # battery efficiency\n",
    "\n",
    "batt_specific_energy = 150  # W*Hr/kg, RC Grade Lipo Specific Energy\n",
    "\n",
    "#wingspan_estimate = 1  # m, initial estimate for wingspan\n",
    "aspect_ratio_estimate = 6  # initial estimate for aspect ratio\n",
    "wetted_area_ratio_estimate = 4  # initial estimate for wetted area ratio\n",
    "k_LD = 9\n",
    "\n",
    "# Outputs\n",
    "print(f\"Required Range: {range} m\")\n",
    "\n",
    "efficiency_total = efficiency_propeller * efficiency_motor * efficiency_esc * efficiency_batt * efficiency_wire\n",
    "print(f\"Total Efficiency: {efficiency_total:.3f}\")\n",
    "\n",
    "print(f\"Battery Specific Energy: {batt_specific_energy} W*hr/kg\")\n",
    "\n",
    "L_D_Max = k_LD * np.sqrt(aspect_ratio_estimate/wetted_area_ratio_estimate)\n",
    "print(f\"Max L/D: {L_D_Max:.1f}\")\n",
    "\n",
    "BMF = gravity * range / (3600 * batt_specific_energy * L_D_Max * efficiency_total)\n",
    "print(f\"Battery Mass Fraction: {BMF:.3f}\")\n"
   ]
  },
  {
   "cell_type": "markdown",
   "metadata": {},
   "source": [
    "##### Empty Weight Fraction Estimate"
   ]
  },
  {
   "cell_type": "code",
   "execution_count": null,
   "metadata": {},
   "outputs": [],
   "source": []
  }
 ],
 "metadata": {
  "language_info": {
   "name": "python"
  }
 },
 "nbformat": 4,
 "nbformat_minor": 2
}
